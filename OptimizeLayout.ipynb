{
 "cells": [
  {
   "cell_type": "markdown",
   "metadata": {},
   "source": [
    "# Current used as scratch paper for python, but we can change this to show the rooms being generated"
   ]
  },
  {
   "cell_type": "code",
   "execution_count": 1,
   "metadata": {},
   "outputs": [
    {
     "name": "stdout",
     "output_type": "stream",
     "text": [
      "Room | Width: 800, Height: 400, Number of Objects: 0\n",
      "Objects: []\n"
     ]
    }
   ],
   "source": [
    "from Storage import Object, Room, Rotation\n",
    "\n",
    "room = Room(800, 400, \"Lab Room\")\n",
    "print(room)"
   ]
  },
  {
   "cell_type": "code",
   "execution_count": 4,
   "metadata": {},
   "outputs": [
    {
     "name": "stdout",
     "output_type": "stream",
     "text": [
      "-4\n",
      "-3\n",
      "-2\n",
      "-1\n",
      "0\n"
     ]
    }
   ],
   "source": [
    "depth = 5\n",
    "for j in range(-depth+1, 1):\n",
    "    print(j)"
   ]
  },
  {
   "cell_type": "code",
   "execution_count": 7,
   "metadata": {},
   "outputs": [
    {
     "name": "stdout",
     "output_type": "stream",
     "text": [
      "2\n"
     ]
    }
   ],
   "source": [
    "from sympy import nextprime\n",
    "print(nextprime(1))"
   ]
  },
  {
   "cell_type": "code",
   "execution_count": 17,
   "metadata": {},
   "outputs": [
    {
     "name": "stdout",
     "output_type": "stream",
     "text": [
      "5.0\n"
     ]
    }
   ],
   "source": [
    "import numpy as np\n",
    "#a = np.random.rand(3, 3)\n",
    "print(np.linalg.norm([3, 4]))\n"
   ]
  },
  {
   "cell_type": "code",
   "execution_count": 19,
   "metadata": {},
   "outputs": [
    {
     "name": "stdout",
     "output_type": "stream",
     "text": [
      "[(3, 5), (12, 2), (15, 3)]\n",
      "3\n"
     ]
    }
   ],
   "source": [
    "a = [(12, 2), (15, 3), (3, 5)]\n",
    "a.sort()\n",
    "print(a)\n",
    "print(len(a))"
   ]
  },
  {
   "cell_type": "code",
   "execution_count": 20,
   "metadata": {},
   "outputs": [
    {
     "name": "stdout",
     "output_type": "stream",
     "text": [
      "4\n",
      "4\n",
      "4\n",
      "4\n",
      "1\n",
      "1\n",
      "5\n",
      "1\n",
      "0\n",
      "3\n"
     ]
    }
   ],
   "source": [
    "from random import randint\n",
    "for i in range(10): \n",
    "    print(randint(0, 5))"
   ]
  },
  {
   "cell_type": "code",
   "execution_count": 31,
   "metadata": {},
   "outputs": [
    {
     "name": "stdout",
     "output_type": "stream",
     "text": [
      "[[ 1  2  3]\n",
      " [ 4  5  6]\n",
      " [ 7  8  9]\n",
      " [10 11 12]]\n",
      "[[  1   4   9]\n",
      " [ 16  25  36]\n",
      " [ 49  64  81]\n",
      " [100 121 144]]\n",
      "[[  0.   2.   6.]\n",
      " [ 12.  20.  30.]\n",
      " [ 42.  56.  72.]\n",
      " [ 90. 110. 132.]]\n",
      "[[ 3  8 13]\n",
      " [18 23 28]\n",
      " [33 38 43]\n",
      " [48 53 58]]\n"
     ]
    }
   ],
   "source": [
    "import numpy as np\n",
    "X = np.array([[1,2,3],[4,5,6],[7,8,9],[10,11,12]])\n",
    "Y = np.array([[1,2,3],[4,5,6],[7,8,9],[10,11,12]])**2\n",
    "# print(xi)\n",
    "# print(xj)\n",
    "# print(np.sqrt((xi - xj)**2))\n",
    "for xi, xj in zip([X], [Y]):\n",
    "    print(xi)\n",
    "    print(xj)\n",
    "    print(np.sqrt((xi - xj)**2))\n",
    "\n",
    "print(5*X - 2)"
   ]
  },
  {
   "cell_type": "code",
   "execution_count": 3,
   "metadata": {},
   "outputs": [
    {
     "name": "stdout",
     "output_type": "stream",
     "text": [
      "Yes\n"
     ]
    }
   ],
   "source": [
    "from Storage import Rotation\n",
    "\n",
    "if 1 == Rotation.RIGHT:\n",
    "    print(\"Yes\")"
   ]
  },
  {
   "cell_type": "code",
   "execution_count": 5,
   "metadata": {},
   "outputs": [
    {
     "name": "stdout",
     "output_type": "stream",
     "text": [
      "6 9\n"
     ]
    }
   ],
   "source": [
    "x, y = 4+2, 5+4\n",
    "print(x, y)"
   ]
  },
  {
   "cell_type": "code",
   "execution_count": 2,
   "metadata": {},
   "outputs": [
    {
     "name": "stdout",
     "output_type": "stream",
     "text": [
      "{1, 2, 3, 4, 6, 12}\n",
      "[12  5]\n",
      "[{1, 2, 3, 4, 6, 12}, {1, 5}]\n"
     ]
    }
   ],
   "source": [
    "from functools import reduce\n",
    "import numpy as np\n",
    "\n",
    "def _factorize(n: int) -> list[int]:\n",
    "    \"\"\"\n",
    "    Returns the factors of n.\n",
    "    :param n: int to factorize\n",
    "    :return: list of factors\n",
    "    \"\"\"\n",
    "    return set(reduce(list.__add__,([i, n//i] for i in range(1, int(n**0.5) + 1) if n % i == 0)))\n",
    "\n",
    "a = _factorize(12)\n",
    "print(a)\n",
    "\n",
    "b = np.array([12, 4, 5])\n",
    "c = np.where(b > 4)\n",
    "print(b[c])\n",
    "print([_factorize(x) for x in b[c]])"
   ]
  },
  {
   "cell_type": "code",
   "execution_count": 7,
   "metadata": {},
   "outputs": [
    {
     "name": "stdout",
     "output_type": "stream",
     "text": [
      "45\n"
     ]
    }
   ],
   "source": [
    "import numpy as np\n",
    "a = np.array([[1, 2, 3], [4, 5, 6], [7, 8, 9]])\n",
    "print(np.sum(a))"
   ]
  },
  {
   "cell_type": "code",
   "execution_count": 12,
   "metadata": {},
   "outputs": [
    {
     "name": "stdout",
     "output_type": "stream",
     "text": [
      "53\n"
     ]
    }
   ],
   "source": [
    "width = 7\n",
    "height = 5\n",
    "euc_norm = 0 #euclidean norm of the room, used for the objective function\n",
    "center = int(np.ceil(min(width, height)/2))\n",
    "for i in range(center):\n",
    "    if width < 2 or height < 2:\n",
    "        euc_norm += center*width*height\n",
    "    else:\n",
    "        euc_norm += 2*(width + height - 2)*(i + 1)\n",
    "        width -= 2\n",
    "        height -= 2\n",
    "print(euc_norm)"
   ]
  },
  {
   "cell_type": "code",
   "execution_count": 17,
   "metadata": {},
   "outputs": [
    {
     "name": "stdout",
     "output_type": "stream",
     "text": [
      "50\n"
     ]
    }
   ],
   "source": [
    "width = 100\n",
    "height = 100\n",
    "x = 50\n",
    "y = 50\n",
    "travel = min(x + 1, width - x, y + 1, height - y)\n",
    "print(travel)"
   ]
  },
  {
   "cell_type": "code",
   "execution_count": 19,
   "metadata": {},
   "outputs": [
    {
     "name": "stdout",
     "output_type": "stream",
     "text": [
      "1\n",
      "2\n"
     ]
    }
   ],
   "source": [
    "group = [1]\n",
    "for g in group:\n",
    "    print(g)\n",
    "    if(g == 1):\n",
    "        group.append(2)"
   ]
  },
  {
   "cell_type": "code",
   "execution_count": 50,
   "metadata": {},
   "outputs": [
    {
     "name": "stdout",
     "output_type": "stream",
     "text": [
      "[[1. 1. 1.]\n",
      " [1. 1. 0.]\n",
      " [1. 1. 1.]\n",
      " [1. 1. 0.]]\n",
      "[ True]\n"
     ]
    },
    {
     "ename": "IndexError",
     "evalue": "boolean index did not match indexed array along dimension 0; dimension is 4 but corresponding boolean dimension is 1",
     "output_type": "error",
     "traceback": [
      "\u001b[1;31m---------------------------------------------------------------------------\u001b[0m",
      "\u001b[1;31mIndexError\u001b[0m                                Traceback (most recent call last)",
      "Cell \u001b[1;32mIn[50], line 11\u001b[0m\n\u001b[0;32m      9\u001b[0m \u001b[38;5;66;03m# loc = np.where(a[:,2] == 0 and b[:,2] == 3)\u001b[39;00m\n\u001b[0;32m     10\u001b[0m \u001b[38;5;28mprint\u001b[39m(loc)\n\u001b[1;32m---> 11\u001b[0m \u001b[43ma\u001b[49m\u001b[43m[\u001b[49m\u001b[43mloc\u001b[49m\u001b[43m,\u001b[49m\u001b[38;5;241;43m2\u001b[39;49m\u001b[43m]\u001b[49m \u001b[38;5;241m=\u001b[39m \u001b[38;5;241m4\u001b[39m\n\u001b[0;32m     12\u001b[0m \u001b[38;5;28mprint\u001b[39m(a)\n",
      "\u001b[1;31mIndexError\u001b[0m: boolean index did not match indexed array along dimension 0; dimension is 4 but corresponding boolean dimension is 1"
     ]
    }
   ],
   "source": [
    "a = np.ones((4,3))\n",
    "b = np.ones((4,3))*3\n",
    "a[1,2] = 0\n",
    "a[3,2] = 0\n",
    "print(a)\n",
    "\n",
    "#loc = np.intersect1d(np.where(a[:,2] == 0), np.where(b[:,2] == 3))\n",
    "loc = np.intersect1d(a[:,2] == 0, b[:,2] == 3)\n",
    "# loc = np.where(a[:,2] == 0 and b[:,2] == 3)\n",
    "print(loc)\n",
    "a[loc,2] = 4\n",
    "print(a)"
   ]
  },
  {
   "cell_type": "code",
   "execution_count": 30,
   "metadata": {},
   "outputs": [
    {
     "name": "stdout",
     "output_type": "stream",
     "text": [
      "(100,)\n",
      "[3 3 3 3 3 4 4 4 4 4 3 3 3 3 3 4 4 4 4 4 3 3 3 3 3 4 4 4 4 4 3 3 3 3 3 4 4\n",
      " 4 4 4 3 3 3 3 3 4 4 4 4 4 4 4 4 4 4 4 4 4 4 4 4 4 4 4 4 4 4 4 4 4 4 4 4 4\n",
      " 4 4 4 4 4 4 4 4 4 4 4 4 4 4 4 4 4 4 4 4 4 4 4 4 4 4]\n",
      "[3 4]\n",
      "[3 4 5]\n"
     ]
    }
   ],
   "source": [
    "a = np.ones((100, 100), dtype=int)\n",
    "a[10:20, 10:20] = 4\n",
    "a[10:15, 10:15] = 3\n",
    "b = np.where(a > 1)\n",
    "print(b[0].shape)\n",
    "c = np.transpose(np.where(a > 1))\n",
    "# print(c.shape)\n",
    "print(a[b])\n",
    "d = np.unique(a[b])\n",
    "print(d)\n",
    "print(np.concatenate((d, [5])))"
   ]
  },
  {
   "cell_type": "code",
   "execution_count": 31,
   "metadata": {},
   "outputs": [
    {
     "name": "stdout",
     "output_type": "stream",
     "text": [
      "[1, 2, 3, 4, 5, 6, 7, 8]\n"
     ]
    }
   ],
   "source": [
    "a = [np.array([1, 2, 3]), np.array([4, 5, 6]), np.array([7, 8])]\n",
    "print([y for x in a for y in x])"
   ]
  },
  {
   "cell_type": "code",
   "execution_count": 13,
   "metadata": {},
   "outputs": [
    {
     "name": "stdout",
     "output_type": "stream",
     "text": [
      "[[-1.42056455  0.09090744  0.06434684]\n",
      " [-0.71761531 -1.44298366 -0.31430156]\n",
      " [-1.20828665 -0.38750311  0.87593241]]\n",
      "[1, 2, 3]\n"
     ]
    }
   ],
   "source": [
    "import numpy as np\n",
    "a = np.random.randn(*(3, 3))\n",
    "print(a)\n",
    "\n",
    "b = np.array([1, 2, 3])\n",
    "print(list(b))"
   ]
  },
  {
   "cell_type": "code",
   "execution_count": 23,
   "metadata": {},
   "outputs": [
    {
     "name": "stdout",
     "output_type": "stream",
     "text": [
      "[1 2 3]\n",
      "[1 5 3]\n"
     ]
    }
   ],
   "source": [
    "a = np.array([1, 2, 3])\n",
    "b = np.copy(a)\n",
    "b[1] = 5\n",
    "print(a)\n",
    "print(b)"
   ]
  },
  {
   "cell_type": "code",
   "execution_count": 28,
   "metadata": {},
   "outputs": [
    {
     "name": "stdout",
     "output_type": "stream",
     "text": [
      "defaultdict(<class 'tuple'>, {1: (1, 2), 2: (3, 4), 3: (), 4: (5, 6)})\n",
      "Yes\n"
     ]
    }
   ],
   "source": [
    "from collections import defaultdict\n",
    "\n",
    "\n",
    "a = defaultdict(tuple)\n",
    "a[1] = (1, 2)\n",
    "a[2] = (3, 4)\n",
    "a[3] = ()\n",
    "a[4] = (5, 6)\n",
    "print(a)\n",
    "\n",
    "if 3 in a.keys():\n",
    "    print(\"Yes\")"
   ]
  },
  {
   "cell_type": "code",
   "execution_count": 40,
   "metadata": {},
   "outputs": [
    {
     "name": "stdout",
     "output_type": "stream",
     "text": [
      "True\n",
      "True\n"
     ]
    }
   ],
   "source": [
    "b = np.array([1, 2, 3])\n",
    "c = np.array([1, 2.1, 3.2])\n",
    "a = [np.array_equal(b, c.astype(int)), np.array_equal(b, b)]\n",
    "print(a.count(True) == len(a))\n",
    "print(any(a))"
   ]
  }
 ],
 "metadata": {
  "kernelspec": {
   "display_name": "Python 3",
   "language": "python",
   "name": "python3"
  },
  "language_info": {
   "codemirror_mode": {
    "name": "ipython",
    "version": 3
   },
   "file_extension": ".py",
   "mimetype": "text/x-python",
   "name": "python",
   "nbconvert_exporter": "python",
   "pygments_lexer": "ipython3",
   "version": "3.11.8"
  }
 },
 "nbformat": 4,
 "nbformat_minor": 2
}
