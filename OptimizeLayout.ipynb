{
 "cells": [
  {
   "cell_type": "code",
   "execution_count": 1,
   "metadata": {},
   "outputs": [
    {
     "name": "stdout",
     "output_type": "stream",
     "text": [
      "Room | Width: 800, Height: 400, Number of Objects: 0\n",
      "Objects: []\n"
     ]
    }
   ],
   "source": [
    "from Storage import Object, Room, Rotation\n",
    "\n",
    "room = Room(800, 400, \"Lab Room\")\n",
    "print(room)"
   ]
  },
  {
   "cell_type": "code",
   "execution_count": 4,
   "metadata": {},
   "outputs": [
    {
     "name": "stdout",
     "output_type": "stream",
     "text": [
      "-4\n",
      "-3\n",
      "-2\n",
      "-1\n",
      "0\n"
     ]
    }
   ],
   "source": [
    "depth = 5\n",
    "for j in range(-depth+1, 1):\n",
    "    print(j)"
   ]
  },
  {
   "cell_type": "code",
   "execution_count": 7,
   "metadata": {},
   "outputs": [
    {
     "name": "stdout",
     "output_type": "stream",
     "text": [
      "2\n"
     ]
    }
   ],
   "source": [
    "from sympy import nextprime\n",
    "print(nextprime(1))"
   ]
  },
  {
   "cell_type": "code",
   "execution_count": 17,
   "metadata": {},
   "outputs": [
    {
     "name": "stdout",
     "output_type": "stream",
     "text": [
      "5.0\n"
     ]
    }
   ],
   "source": [
    "import numpy as np\n",
    "#a = np.random.rand(3, 3)\n",
    "print(np.linalg.norm([3, 4]))\n"
   ]
  },
  {
   "cell_type": "code",
   "execution_count": 19,
   "metadata": {},
   "outputs": [
    {
     "name": "stdout",
     "output_type": "stream",
     "text": [
      "[(3, 5), (12, 2), (15, 3)]\n",
      "3\n"
     ]
    }
   ],
   "source": [
    "a = [(12, 2), (15, 3), (3, 5)]\n",
    "a.sort()\n",
    "print(a)\n",
    "print(len(a))"
   ]
  },
  {
   "cell_type": "code",
   "execution_count": 20,
   "metadata": {},
   "outputs": [
    {
     "name": "stdout",
     "output_type": "stream",
     "text": [
      "4\n",
      "4\n",
      "4\n",
      "4\n",
      "1\n",
      "1\n",
      "5\n",
      "1\n",
      "0\n",
      "3\n"
     ]
    }
   ],
   "source": [
    "from random import randint\n",
    "for i in range(10): \n",
    "    print(randint(0, 5))"
   ]
  },
  {
   "cell_type": "code",
   "execution_count": 31,
   "metadata": {},
   "outputs": [
    {
     "name": "stdout",
     "output_type": "stream",
     "text": [
      "[[ 1  2  3]\n",
      " [ 4  5  6]\n",
      " [ 7  8  9]\n",
      " [10 11 12]]\n",
      "[[  1   4   9]\n",
      " [ 16  25  36]\n",
      " [ 49  64  81]\n",
      " [100 121 144]]\n",
      "[[  0.   2.   6.]\n",
      " [ 12.  20.  30.]\n",
      " [ 42.  56.  72.]\n",
      " [ 90. 110. 132.]]\n",
      "[[ 3  8 13]\n",
      " [18 23 28]\n",
      " [33 38 43]\n",
      " [48 53 58]]\n"
     ]
    }
   ],
   "source": [
    "import numpy as np\n",
    "X = np.array([[1,2,3],[4,5,6],[7,8,9],[10,11,12]])\n",
    "Y = np.array([[1,2,3],[4,5,6],[7,8,9],[10,11,12]])**2\n",
    "# print(xi)\n",
    "# print(xj)\n",
    "# print(np.sqrt((xi - xj)**2))\n",
    "for xi, xj in zip([X], [Y]):\n",
    "    print(xi)\n",
    "    print(xj)\n",
    "    print(np.sqrt((xi - xj)**2))\n",
    "\n",
    "print(5*X - 2)"
   ]
  },
  {
   "cell_type": "code",
   "execution_count": 3,
   "metadata": {},
   "outputs": [
    {
     "name": "stdout",
     "output_type": "stream",
     "text": [
      "Yes\n"
     ]
    }
   ],
   "source": [
    "from Storage import Rotation\n",
    "\n",
    "if 1 == Rotation.RIGHT:\n",
    "    print(\"Yes\")"
   ]
  },
  {
   "cell_type": "code",
   "execution_count": 5,
   "metadata": {},
   "outputs": [
    {
     "name": "stdout",
     "output_type": "stream",
     "text": [
      "6 9\n"
     ]
    }
   ],
   "source": [
    "x, y = 4+2, 5+4\n",
    "print(x, y)"
   ]
  },
  {
   "cell_type": "code",
   "execution_count": 17,
   "metadata": {},
   "outputs": [
    {
     "name": "stdout",
     "output_type": "stream",
     "text": [
      "{1, 2, 3, 4, 6, 12}\n",
      "[12  5]\n",
      "[{1, 2, 3, 4, 6, 12}, {1, 5}]\n"
     ]
    }
   ],
   "source": [
    "from functools import reduce\n",
    "import numpy as np\n",
    "\n",
    "def _factorize(n: int) -> list[int]:\n",
    "    \"\"\"\n",
    "    Returns the factors of n.\n",
    "    :param n: int to factorize\n",
    "    :return: list of factors\n",
    "    \"\"\"\n",
    "    return set(reduce(list.__add__,([i, n//i] for i in range(1, int(n**0.5) + 1) if n % i == 0)))\n",
    "\n",
    "a = _factorize(12)\n",
    "print(a)\n",
    "\n",
    "b = np.array([12, 4, 5])\n",
    "c = np.where(b > 4)\n",
    "print(b[c])\n",
    "print([_factorize(x) for x in b[c]])"
   ]
  }
 ],
 "metadata": {
  "kernelspec": {
   "display_name": "Python 3",
   "language": "python",
   "name": "python3"
  },
  "language_info": {
   "codemirror_mode": {
    "name": "ipython",
    "version": 3
   },
   "file_extension": ".py",
   "mimetype": "text/x-python",
   "name": "python",
   "nbconvert_exporter": "python",
   "pygments_lexer": "ipython3",
   "version": "3.11.8"
  }
 },
 "nbformat": 4,
 "nbformat_minor": 2
}
